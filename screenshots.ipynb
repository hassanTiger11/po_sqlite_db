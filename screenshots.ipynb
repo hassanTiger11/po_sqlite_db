{
 "cells": [
  {
   "cell_type": "code",
   "execution_count": 1,
   "id": "439d699a",
   "metadata": {},
   "outputs": [],
   "source": [
    "import sqlite3\n",
    "import pandas as pd\n",
    "from IPython.display import display\n",
    "po8 = sqlite3.connect(\"po8.db\")"
   ]
  },
  {
   "cell_type": "code",
   "execution_count": 6,
   "id": "d485a40b",
   "metadata": {},
   "outputs": [
    {
     "ename": "NameError",
     "evalue": "name 'field_book' is not defined",
     "output_type": "error",
     "traceback": [
      "\u001b[0;31m---------------------------------------------------------------------------\u001b[0m",
      "\u001b[0;31mNameError\u001b[0m                                 Traceback (most recent call last)",
      "Input \u001b[0;32mIn [6]\u001b[0m, in \u001b[0;36m<cell line: 2>\u001b[0;34m()\u001b[0m\n\u001b[1;32m      1\u001b[0m field_table \u001b[38;5;241m=\u001b[39m pd\u001b[38;5;241m.\u001b[39mread_sql_query(\u001b[38;5;124m\"\u001b[39m\u001b[38;5;124mSELECT * FROM field_book\u001b[39m\u001b[38;5;124m\"\u001b[39m, po8)\n\u001b[0;32m----> 2\u001b[0m display(\u001b[43mfield_book\u001b[49m)\n",
      "\u001b[0;31mNameError\u001b[0m: name 'field_book' is not defined"
     ]
    }
   ],
   "source": [
    "field_table = pd.read_sql_query(\"SELECT * FROM field_book\", po8)\n",
    "display(field_book)"
   ]
  },
  {
   "cell_type": "code",
   "execution_count": null,
   "id": "ace03918",
   "metadata": {},
   "outputs": [],
   "source": []
  }
 ],
 "metadata": {
  "kernelspec": {
   "display_name": "Python 3 (ipykernel)",
   "language": "python",
   "name": "python3"
  },
  "language_info": {
   "codemirror_mode": {
    "name": "ipython",
    "version": 3
   },
   "file_extension": ".py",
   "mimetype": "text/x-python",
   "name": "python",
   "nbconvert_exporter": "python",
   "pygments_lexer": "ipython3",
   "version": "3.9.9"
  }
 },
 "nbformat": 4,
 "nbformat_minor": 5
}
