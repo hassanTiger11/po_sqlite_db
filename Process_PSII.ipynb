{
 "cells": [
  {
   "cell_type": "code",
   "execution_count": null,
   "id": "d3411a73",
   "metadata": {},
   "outputs": [],
   "source": [
    "In this file I will process:\n",
    "    psii:\n",
    "        /iplant/home/shared/phytooracle/season_10_lettuce_yr_2020/level_2/ps2Top/ps2Top-fluorescence_aggregation_S10.tar.gz\n",
    "    3D:\n",
    "        /iplant/home/shared/phytooracle/season_10_lettuce_yr_2020/level_3/scanner3DTop/{date}/season10_plant_volume/{date}_3d_volumes_entropy_vs009_fullres_newo3d.csv\n",
    "        \n",
    "        I am referring to date because each CSV file is stored somewhere differen"
   ]
  },
  {
   "cell_type": "code",
   "execution_count": 22,
   "id": "f2a984b6",
   "metadata": {},
   "outputs": [],
   "source": [
    "'''\n",
    "Download the data into this directory\n",
    "'''\n",
    "import os\n",
    "import sys\n",
    "\n",
    "def download_from_cyverse(path):\n",
    "    curr_path = os.getcwd()\n",
    "    command = f'''\n",
    "    # add iCommands Path\n",
    "    export PATH=\"/Applications/icommands/:$PATH\"\n",
    "    export IRODS_PLUGINS_HOME=/Applications/icommands/plugins/\n",
    "    source ~/.zshrc\n",
    "    iget -T -v {path} {curr_path}\n",
    "    '''\n",
    "    \n",
    "    print(os.system(command))\n",
    "def extract_file(file):\n",
    "    command = f'''\n",
    "    tar -xvf {file}\n",
    "    '''\n",
    "    print(os.system(command))\n",
    "\n"
   ]
  },
  {
   "cell_type": "code",
   "execution_count": 19,
   "id": "8bb39aa1",
   "metadata": {},
   "outputs": [],
   "source": [
    "path = '/iplant/home/shared/phytooracle/season_10_lettuce_yr_2020/level_2/ps2Top/ps2Top-fluorescence_aggregation_S10.tar.gz'\n",
    "download_from_cyverse(path)"
   ]
  },
  {
   "cell_type": "code",
   "execution_count": 23,
   "id": "5ba0196b",
   "metadata": {},
   "outputs": [
    {
     "name": "stdout",
     "output_type": "stream",
     "text": [
      "0\n"
     ]
    },
    {
     "name": "stderr",
     "output_type": "stream",
     "text": [
      "x fluorescence_outs/\n",
      "x fluorescence_outs/2020-01-23_fluorescence_aggregation/\n",
      "x fluorescence_outs/2020-01-23_fluorescence_aggregation/2020-01-23_fluorescence_aggregation.csv\n",
      "x fluorescence_outs/2020-02-20_fluorescence_aggregation/\n",
      "x fluorescence_outs/2020-02-20_fluorescence_aggregation/2020-02-20_fluorescence_aggregation.csv\n",
      "x fluorescence_outs/2020-02-14_fluorescence_aggregation/\n",
      "x fluorescence_outs/2020-02-14_fluorescence_aggregation/2020-02-14_fluorescence_aggregation.csv\n",
      "x fluorescence_outs/2020-02-13_fluorescence_aggregation/\n",
      "x fluorescence_outs/2020-02-13_fluorescence_aggregation/2020-02-13_fluorescence_aggregation.csv\n",
      "x fluorescence_outs/2020-01-24_fluorescence_aggregation/\n",
      "x fluorescence_outs/2020-01-24_fluorescence_aggregation/2020-01-24_fluorescence_aggregation.csv\n",
      "x fluorescence_outs/2020-02-07_fluorescence_aggregation/\n",
      "x fluorescence_outs/2020-02-07_fluorescence_aggregation/2020-02-07_fluorescence_aggregation.csv\n",
      "x fluorescence_outs/2020-02-27_fluorescence_aggregation/\n",
      "x fluorescence_outs/2020-02-27_fluorescence_aggregation/2020-02-27_fluorescence_aggregation.csv\n",
      "x fluorescence_outs/2020-02-19_fluorescence_aggregation/\n",
      "x fluorescence_outs/2020-02-19_fluorescence_aggregation/2020-02-19_fluorescence_aggregation.csv\n",
      "x fluorescence_outs/2020-01-22_fluorescence_aggregation/\n",
      "x fluorescence_outs/2020-01-22_fluorescence_aggregation/2020-01-22_fluorescence_aggregation.csv\n",
      "x fluorescence_outs/2020-02-12_fluorescence_aggregation/\n",
      "x fluorescence_outs/2020-02-12_fluorescence_aggregation/2020-02-12_fluorescence_aggregation.csv\n",
      "x fluorescence_outs/2020-02-05_fluorescence_aggregation/\n",
      "x fluorescence_outs/2020-02-05_fluorescence_aggregation/2020-02-05_fluorescence_aggregation.csv\n",
      "x fluorescence_outs/2020-02-26_fluorescence_aggregation/\n",
      "x fluorescence_outs/2020-02-26_fluorescence_aggregation/2020-02-26_fluorescence_aggregation.csv\n"
     ]
    }
   ],
   "source": [
    "filename = 'ps2Top-fluorescence_aggregation_S10.tar.gz'\n",
    "extract_file(filename)"
   ]
  },
  {
   "cell_type": "code",
   "execution_count": 28,
   "id": "ff0c8537",
   "metadata": {},
   "outputs": [],
   "source": [
    "'''Get the filename and directories from PSII data'''\n",
    "import os\n",
    "def get_csv_files_paths_and_dates():\n",
    "    curr_dir = os.getcwd()\n",
    "    folder = 'fluorescence_outs'\n",
    "    dates = []\n",
    "    paths = []\n",
    "    for directory in os.listdir(folder):\n",
    "        curr_path = os.path.join(folder, directory)\n",
    "        dates.append(directory.split('_')[0])\n",
    "        for csv_file in os.listdir(curr_path):\n",
    "            curr_path = os.path.join(curr_path, csv_file)\n",
    "            paths.append(curr_path)\n",
    "    return paths, dates\n",
    "    "
   ]
  },
  {
   "cell_type": "code",
   "execution_count": 31,
   "id": "73cf0d60",
   "metadata": {},
   "outputs": [
    {
     "name": "stdout",
     "output_type": "stream",
     "text": [
      "paths: ['fluorescence_outs/2020-01-24_fluorescence_aggregation/2020-01-24_fluorescence_aggregation.csv', 'fluorescence_outs/2020-02-07_fluorescence_aggregation/2020-02-07_fluorescence_aggregation.csv', 'fluorescence_outs/2020-02-26_fluorescence_aggregation/2020-02-26_fluorescence_aggregation.csv', 'fluorescence_outs/2020-02-19_fluorescence_aggregation/2020-02-19_fluorescence_aggregation.csv', 'fluorescence_outs/2020-02-27_fluorescence_aggregation/2020-02-27_fluorescence_aggregation.csv', 'fluorescence_outs/2020-02-14_fluorescence_aggregation/2020-02-14_fluorescence_aggregation.csv', 'fluorescence_outs/2020-02-12_fluorescence_aggregation/2020-02-12_fluorescence_aggregation.csv', 'fluorescence_outs/2020-01-23_fluorescence_aggregation/2020-01-23_fluorescence_aggregation.csv', 'fluorescence_outs/2020-01-22_fluorescence_aggregation/2020-01-22_fluorescence_aggregation.csv', 'fluorescence_outs/2020-02-05_fluorescence_aggregation/2020-02-05_fluorescence_aggregation.csv', 'fluorescence_outs/2020-02-13_fluorescence_aggregation/2020-02-13_fluorescence_aggregation.csv', 'fluorescence_outs/2020-02-20_fluorescence_aggregation/2020-02-20_fluorescence_aggregation.csv']\n",
      "\n",
      "dates: ['2020-01-24', '2020-02-07', '2020-02-26', '2020-02-19', '2020-02-27', '2020-02-14', '2020-02-12', '2020-01-23', '2020-01-22', '2020-02-05', '2020-02-13', '2020-02-20']\n"
     ]
    }
   ],
   "source": [
    "paths, dates = get_csv_files_paths_and_dates()\n"
   ]
  },
  {
   "cell_type": "code",
   "execution_count": 52,
   "id": "efaac47a",
   "metadata": {},
   "outputs": [],
   "source": [
    "'''\n",
    "I will iterate through the extracted folder and concatenate all CSV files into one dataframe\n",
    "'''\n",
    "def create_psii_df(paths):\n",
    "    dataframes = []\n",
    "    for path in paths:\n",
    "        dataframes.append( pd.read_csv(path) )\n",
    "\n",
    "    psii_df = pd.concat(dataframes)\n",
    "    return psii_df\n"
   ]
  },
  {
   "cell_type": "code",
   "execution_count": 55,
   "id": "edf96f9d",
   "metadata": {},
   "outputs": [
    {
     "data": {
      "text/html": [
       "<div>\n",
       "<style scoped>\n",
       "    .dataframe tbody tr th:only-of-type {\n",
       "        vertical-align: middle;\n",
       "    }\n",
       "\n",
       "    .dataframe tbody tr th {\n",
       "        vertical-align: top;\n",
       "    }\n",
       "\n",
       "    .dataframe thead th {\n",
       "        text-align: right;\n",
       "    }\n",
       "</style>\n",
       "<table border=\"1\" class=\"dataframe\">\n",
       "  <thead>\n",
       "    <tr style=\"text-align: right;\">\n",
       "      <th></th>\n",
       "      <th>Unnamed: 0</th>\n",
       "      <th>F0</th>\n",
       "      <th>FM</th>\n",
       "      <th>FV</th>\n",
       "      <th>FV/FM</th>\n",
       "    </tr>\n",
       "  </thead>\n",
       "  <tbody>\n",
       "    <tr>\n",
       "      <th>count</th>\n",
       "      <td>8640.000000</td>\n",
       "      <td>8640.000000</td>\n",
       "      <td>8640.000000</td>\n",
       "      <td>8640.000000</td>\n",
       "      <td>8640.000000</td>\n",
       "    </tr>\n",
       "    <tr>\n",
       "      <th>mean</th>\n",
       "      <td>359.500000</td>\n",
       "      <td>15.405517</td>\n",
       "      <td>71.628221</td>\n",
       "      <td>56.222704</td>\n",
       "      <td>0.764865</td>\n",
       "    </tr>\n",
       "    <tr>\n",
       "      <th>std</th>\n",
       "      <td>207.857926</td>\n",
       "      <td>2.022689</td>\n",
       "      <td>20.832464</td>\n",
       "      <td>19.144154</td>\n",
       "      <td>0.074606</td>\n",
       "    </tr>\n",
       "    <tr>\n",
       "      <th>min</th>\n",
       "      <td>0.000000</td>\n",
       "      <td>10.123880</td>\n",
       "      <td>21.187524</td>\n",
       "      <td>9.868764</td>\n",
       "      <td>0.458191</td>\n",
       "    </tr>\n",
       "    <tr>\n",
       "      <th>25%</th>\n",
       "      <td>179.750000</td>\n",
       "      <td>13.768196</td>\n",
       "      <td>61.107023</td>\n",
       "      <td>47.161938</td>\n",
       "      <td>0.759674</td>\n",
       "    </tr>\n",
       "    <tr>\n",
       "      <th>50%</th>\n",
       "      <td>359.500000</td>\n",
       "      <td>15.842362</td>\n",
       "      <td>81.343080</td>\n",
       "      <td>65.274671</td>\n",
       "      <td>0.797352</td>\n",
       "    </tr>\n",
       "    <tr>\n",
       "      <th>75%</th>\n",
       "      <td>539.250000</td>\n",
       "      <td>16.931845</td>\n",
       "      <td>86.541677</td>\n",
       "      <td>69.792040</td>\n",
       "      <td>0.809829</td>\n",
       "    </tr>\n",
       "    <tr>\n",
       "      <th>max</th>\n",
       "      <td>719.000000</td>\n",
       "      <td>22.897585</td>\n",
       "      <td>105.286357</td>\n",
       "      <td>86.383893</td>\n",
       "      <td>0.854856</td>\n",
       "    </tr>\n",
       "  </tbody>\n",
       "</table>\n",
       "</div>"
      ],
      "text/plain": [
       "        Unnamed: 0           F0           FM           FV        FV/FM\n",
       "count  8640.000000  8640.000000  8640.000000  8640.000000  8640.000000\n",
       "mean    359.500000    15.405517    71.628221    56.222704     0.764865\n",
       "std     207.857926     2.022689    20.832464    19.144154     0.074606\n",
       "min       0.000000    10.123880    21.187524     9.868764     0.458191\n",
       "25%     179.750000    13.768196    61.107023    47.161938     0.759674\n",
       "50%     359.500000    15.842362    81.343080    65.274671     0.797352\n",
       "75%     539.250000    16.931845    86.541677    69.792040     0.809829\n",
       "max     719.000000    22.897585   105.286357    86.383893     0.854856"
      ]
     },
     "execution_count": 55,
     "metadata": {},
     "output_type": "execute_result"
    }
   ],
   "source": [
    "all_psii = create_psii_df(paths)\n",
    "all_psii.describe()"
   ]
  },
  {
   "cell_type": "code",
   "execution_count": null,
   "id": "55c51dee",
   "metadata": {},
   "outputs": [],
   "source": []
  }
 ],
 "metadata": {
  "kernelspec": {
   "display_name": "Python 3 (ipykernel)",
   "language": "python",
   "name": "python3"
  },
  "language_info": {
   "codemirror_mode": {
    "name": "ipython",
    "version": 3
   },
   "file_extension": ".py",
   "mimetype": "text/x-python",
   "name": "python",
   "nbconvert_exporter": "python",
   "pygments_lexer": "ipython3",
   "version": "3.9.9"
  }
 },
 "nbformat": 4,
 "nbformat_minor": 5
}
