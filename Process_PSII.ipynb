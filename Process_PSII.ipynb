{
 "cells": [
  {
   "cell_type": "code",
   "execution_count": null,
   "id": "e08a2b09",
   "metadata": {},
   "outputs": [],
   "source": [
    "In this file I will process:\n",
    "    psii:\n",
    "        /iplant/home/shared/phytooracle/season_10_lettuce_yr_2020/level_2/ps2Top/ps2Top-fluorescence_aggregation_S10.tar.gz\n",
    "    3D:\n",
    "        /iplant/home/shared/phytooracle/season_10_lettuce_yr_2020/level_3/scanner3DTop/{date}/season10_plant_volume/{date}_3d_volumes_entropy_vs009_fullres_newo3d.csv\n",
    "        \n",
    "        I am referring to date because each CSV file is stored somewhere differen"
   ]
  },
  {
   "cell_type": "code",
   "execution_count": 1,
   "id": "c2b450c8",
   "metadata": {},
   "outputs": [
    {
     "name": "stdout",
     "output_type": "stream",
     "text": [
      "Collecting pysqlite3\n",
      "  Using cached pysqlite3-0.4.7.tar.gz (40 kB)\n",
      "  Preparing metadata (setup.py) ... \u001b[?25ldone\n",
      "\u001b[?25hBuilding wheels for collected packages: pysqlite3\n",
      "  Building wheel for pysqlite3 (setup.py) ... \u001b[?25ldone\n",
      "\u001b[33m  WARNING: Legacy build of wheel for 'pysqlite3' created no files.\n",
      "  Command arguments: /Library/Frameworks/Python.framework/Versions/3.9/bin/python3 -u -c 'import io, os, sys, setuptools, tokenize; sys.argv[0] = '\"'\"'/private/var/folders/5f/szscxzj17yb1j0mt6dzhwb1w0000ks/T/pip-install-5jpwewvy/pysqlite3_f910223018b5489b9e0142c4dacdb273/setup.py'\"'\"'; __file__='\"'\"'/private/var/folders/5f/szscxzj17yb1j0mt6dzhwb1w0000ks/T/pip-install-5jpwewvy/pysqlite3_f910223018b5489b9e0142c4dacdb273/setup.py'\"'\"';f = getattr(tokenize, '\"'\"'open'\"'\"', open)(__file__) if os.path.exists(__file__) else io.StringIO('\"'\"'from setuptools import setup; setup()'\"'\"');code = f.read().replace('\"'\"'\\r\\n'\"'\"', '\"'\"'\\n'\"'\"');f.close();exec(compile(code, __file__, '\"'\"'exec'\"'\"'))' bdist_wheel -d /private/var/folders/5f/szscxzj17yb1j0mt6dzhwb1w0000ks/T/pip-wheel-uvj02x4u\n",
      "  Command output: [use --verbose to show]\u001b[0m\n",
      "\u001b[?25h  Running setup.py clean for pysqlite3\n",
      "Failed to build pysqlite3\n",
      "Installing collected packages: pysqlite3\n",
      "    Running setup.py install for pysqlite3 ... \u001b[?25ldone\n",
      "\u001b[?25hSuccessfully installed pysqlite3\n",
      "\u001b[33mWARNING: You are using pip version 21.3.1; however, version 22.0.4 is available.\n",
      "You should consider upgrading via the '/Library/Frameworks/Python.framework/Versions/3.9/bin/python3 -m pip install --upgrade pip' command.\u001b[0m\n"
     ]
    }
   ],
   "source": [
    "!pip install pysqlite3 "
   ]
  },
  {
   "cell_type": "code",
   "execution_count": 22,
   "id": "23db52d9",
   "metadata": {},
   "outputs": [],
   "source": [
    "'''\n",
    "Download the data into this directory\n",
    "'''\n",
    "import os\n",
    "import sys\n",
    "\n",
    "def download_from_cyverse(path):\n",
    "    curr_path = os.getcwd()\n",
    "    command = f'''\n",
    "    # add iCommands Path\n",
    "    export PATH=\"/Applications/icommands/:$PATH\"\n",
    "    export IRODS_PLUGINS_HOME=/Applications/icommands/plugins/\n",
    "    source ~/.zshrc\n",
    "    iget -T -v {path} {curr_path}\n",
    "    '''\n",
    "    \n",
    "    print(os.system(command))\n",
    "def extract_file(file):\n",
    "    command = f'''\n",
    "    tar -xvf {file}\n",
    "    '''\n",
    "    print(os.system(command))\n",
    "\n"
   ]
  },
  {
   "cell_type": "code",
   "execution_count": 19,
   "id": "be9be930",
   "metadata": {},
   "outputs": [],
   "source": [
    "path = '/iplant/home/shared/phytooracle/season_10_lettuce_yr_2020/level_2/ps2Top/ps2Top-fluorescence_aggregation_S10.tar.gz'\n",
    "download_from_cyverse(path)"
   ]
  },
  {
   "cell_type": "code",
   "execution_count": 23,
   "id": "ff2b4635",
   "metadata": {},
   "outputs": [
    {
     "name": "stdout",
     "output_type": "stream",
     "text": [
      "0\n"
     ]
    },
    {
     "name": "stderr",
     "output_type": "stream",
     "text": [
      "x fluorescence_outs/\n",
      "x fluorescence_outs/2020-01-23_fluorescence_aggregation/\n",
      "x fluorescence_outs/2020-01-23_fluorescence_aggregation/2020-01-23_fluorescence_aggregation.csv\n",
      "x fluorescence_outs/2020-02-20_fluorescence_aggregation/\n",
      "x fluorescence_outs/2020-02-20_fluorescence_aggregation/2020-02-20_fluorescence_aggregation.csv\n",
      "x fluorescence_outs/2020-02-14_fluorescence_aggregation/\n",
      "x fluorescence_outs/2020-02-14_fluorescence_aggregation/2020-02-14_fluorescence_aggregation.csv\n",
      "x fluorescence_outs/2020-02-13_fluorescence_aggregation/\n",
      "x fluorescence_outs/2020-02-13_fluorescence_aggregation/2020-02-13_fluorescence_aggregation.csv\n",
      "x fluorescence_outs/2020-01-24_fluorescence_aggregation/\n",
      "x fluorescence_outs/2020-01-24_fluorescence_aggregation/2020-01-24_fluorescence_aggregation.csv\n",
      "x fluorescence_outs/2020-02-07_fluorescence_aggregation/\n",
      "x fluorescence_outs/2020-02-07_fluorescence_aggregation/2020-02-07_fluorescence_aggregation.csv\n",
      "x fluorescence_outs/2020-02-27_fluorescence_aggregation/\n",
      "x fluorescence_outs/2020-02-27_fluorescence_aggregation/2020-02-27_fluorescence_aggregation.csv\n",
      "x fluorescence_outs/2020-02-19_fluorescence_aggregation/\n",
      "x fluorescence_outs/2020-02-19_fluorescence_aggregation/2020-02-19_fluorescence_aggregation.csv\n",
      "x fluorescence_outs/2020-01-22_fluorescence_aggregation/\n",
      "x fluorescence_outs/2020-01-22_fluorescence_aggregation/2020-01-22_fluorescence_aggregation.csv\n",
      "x fluorescence_outs/2020-02-12_fluorescence_aggregation/\n",
      "x fluorescence_outs/2020-02-12_fluorescence_aggregation/2020-02-12_fluorescence_aggregation.csv\n",
      "x fluorescence_outs/2020-02-05_fluorescence_aggregation/\n",
      "x fluorescence_outs/2020-02-05_fluorescence_aggregation/2020-02-05_fluorescence_aggregation.csv\n",
      "x fluorescence_outs/2020-02-26_fluorescence_aggregation/\n",
      "x fluorescence_outs/2020-02-26_fluorescence_aggregation/2020-02-26_fluorescence_aggregation.csv\n"
     ]
    }
   ],
   "source": [
    "filename = 'ps2Top-fluorescence_aggregation_S10.tar.gz'\n",
    "extract_file(filename)"
   ]
  },
  {
   "cell_type": "code",
   "execution_count": 2,
   "id": "c40e1d9e",
   "metadata": {},
   "outputs": [],
   "source": [
    "'''Get the filename and directories from PSII data'''\n",
    "import os\n",
    "from IPython.display import display\n",
    "def get_csv_files_paths_and_dates():\n",
    "    curr_dir = os.getcwd()\n",
    "    folder = 'fluorescence_outs'\n",
    "    paths = {}\n",
    "    for directory in os.listdir(folder):\n",
    "        curr_path = os.path.join(folder, directory)\n",
    "        \n",
    "        date = directory.split('_')[0]\n",
    "        for csv_file in os.listdir(curr_path):\n",
    "            curr_path = os.path.join(curr_path, csv_file)\n",
    "            paths[date] = curr_path\n",
    "    print (paths)        \n",
    "    return paths\n",
    "    "
   ]
  },
  {
   "cell_type": "code",
   "execution_count": 3,
   "id": "100df241",
   "metadata": {},
   "outputs": [
    {
     "name": "stdout",
     "output_type": "stream",
     "text": [
      "{'2020-01-24': 'fluorescence_outs/2020-01-24_fluorescence_aggregation/2020-01-24_fluorescence_aggregation.csv', '2020-02-07': 'fluorescence_outs/2020-02-07_fluorescence_aggregation/2020-02-07_fluorescence_aggregation.csv', '2020-02-26': 'fluorescence_outs/2020-02-26_fluorescence_aggregation/2020-02-26_fluorescence_aggregation.csv', '2020-02-19': 'fluorescence_outs/2020-02-19_fluorescence_aggregation/2020-02-19_fluorescence_aggregation.csv', '2020-02-27': 'fluorescence_outs/2020-02-27_fluorescence_aggregation/2020-02-27_fluorescence_aggregation.csv', '2020-02-14': 'fluorescence_outs/2020-02-14_fluorescence_aggregation/2020-02-14_fluorescence_aggregation.csv', '2020-02-12': 'fluorescence_outs/2020-02-12_fluorescence_aggregation/2020-02-12_fluorescence_aggregation.csv', '2020-01-23': 'fluorescence_outs/2020-01-23_fluorescence_aggregation/2020-01-23_fluorescence_aggregation.csv', '2020-01-22': 'fluorescence_outs/2020-01-22_fluorescence_aggregation/2020-01-22_fluorescence_aggregation.csv', '2020-02-05': 'fluorescence_outs/2020-02-05_fluorescence_aggregation/2020-02-05_fluorescence_aggregation.csv', '2020-02-13': 'fluorescence_outs/2020-02-13_fluorescence_aggregation/2020-02-13_fluorescence_aggregation.csv', '2020-02-20': 'fluorescence_outs/2020-02-20_fluorescence_aggregation/2020-02-20_fluorescence_aggregation.csv'}\n"
     ]
    }
   ],
   "source": [
    "paths = get_csv_files_paths_and_dates()\n"
   ]
  },
  {
   "cell_type": "code",
   "execution_count": 7,
   "id": "8162fd50",
   "metadata": {},
   "outputs": [],
   "source": [
    "'''\n",
    "I will iterate through the extracted folder and concatenate all CSV files into one dataframe\n",
    "'''\n",
    "from IPython.display import display\n",
    "def create_psii_df(paths):\n",
    "    dataframes = []\n",
    "    for date, path in paths.items():\n",
    "        df = pd.read_csv(path)\n",
    "        #add date column\n",
    "        #date is the capture date\n",
    "        df[\"Date\"] = date\n",
    "        dataframes.append( df )\n",
    "    \n",
    "    psii_df = pd.concat(dataframes, ignore_index = True)\n",
    "    return psii_df\n"
   ]
  },
  {
   "cell_type": "code",
   "execution_count": 8,
   "id": "97f5faf8",
   "metadata": {},
   "outputs": [
    {
     "data": {
      "text/html": [
       "<div>\n",
       "<style scoped>\n",
       "    .dataframe tbody tr th:only-of-type {\n",
       "        vertical-align: middle;\n",
       "    }\n",
       "\n",
       "    .dataframe tbody tr th {\n",
       "        vertical-align: top;\n",
       "    }\n",
       "\n",
       "    .dataframe thead th {\n",
       "        text-align: right;\n",
       "    }\n",
       "</style>\n",
       "<table border=\"1\" class=\"dataframe\">\n",
       "  <thead>\n",
       "    <tr style=\"text-align: right;\">\n",
       "      <th></th>\n",
       "      <th>Plot</th>\n",
       "      <th>F0</th>\n",
       "      <th>FM</th>\n",
       "      <th>FV</th>\n",
       "      <th>FV/FM</th>\n",
       "      <th>Date</th>\n",
       "    </tr>\n",
       "  </thead>\n",
       "  <tbody>\n",
       "    <tr>\n",
       "      <th>0</th>\n",
       "      <td>MAC Field Scanner Season 10 Range 40 Column 30</td>\n",
       "      <td>13.960748</td>\n",
       "      <td>67.295251</td>\n",
       "      <td>53.334503</td>\n",
       "      <td>0.792545</td>\n",
       "      <td>2020-01-24</td>\n",
       "    </tr>\n",
       "    <tr>\n",
       "      <th>1</th>\n",
       "      <td>MAC Field Scanner Season 10 Range 41 Column 19</td>\n",
       "      <td>13.508523</td>\n",
       "      <td>59.143537</td>\n",
       "      <td>45.635015</td>\n",
       "      <td>0.771598</td>\n",
       "      <td>2020-01-24</td>\n",
       "    </tr>\n",
       "    <tr>\n",
       "      <th>2</th>\n",
       "      <td>MAC Field Scanner Season 10 Range 49 Column 21</td>\n",
       "      <td>12.215608</td>\n",
       "      <td>35.536869</td>\n",
       "      <td>23.321261</td>\n",
       "      <td>0.656255</td>\n",
       "      <td>2020-01-24</td>\n",
       "    </tr>\n",
       "    <tr>\n",
       "      <th>3</th>\n",
       "      <td>MAC Field Scanner Season 10 Range 38 Column 45</td>\n",
       "      <td>11.659572</td>\n",
       "      <td>41.517839</td>\n",
       "      <td>29.858267</td>\n",
       "      <td>0.719167</td>\n",
       "      <td>2020-01-24</td>\n",
       "    </tr>\n",
       "    <tr>\n",
       "      <th>4</th>\n",
       "      <td>MAC Field Scanner Season 10 Range 41 Column 7</td>\n",
       "      <td>13.102145</td>\n",
       "      <td>54.621915</td>\n",
       "      <td>41.519770</td>\n",
       "      <td>0.760130</td>\n",
       "      <td>2020-01-24</td>\n",
       "    </tr>\n",
       "    <tr>\n",
       "      <th>...</th>\n",
       "      <td>...</td>\n",
       "      <td>...</td>\n",
       "      <td>...</td>\n",
       "      <td>...</td>\n",
       "      <td>...</td>\n",
       "      <td>...</td>\n",
       "    </tr>\n",
       "    <tr>\n",
       "      <th>8635</th>\n",
       "      <td>MAC Field Scanner Season 10 Range 51 Column 40</td>\n",
       "      <td>16.205196</td>\n",
       "      <td>82.241268</td>\n",
       "      <td>66.036072</td>\n",
       "      <td>0.802955</td>\n",
       "      <td>2020-02-20</td>\n",
       "    </tr>\n",
       "    <tr>\n",
       "      <th>8636</th>\n",
       "      <td>MAC Field Scanner Season 10 Range 38 Column 10</td>\n",
       "      <td>15.725742</td>\n",
       "      <td>89.299231</td>\n",
       "      <td>73.573489</td>\n",
       "      <td>0.823898</td>\n",
       "      <td>2020-02-20</td>\n",
       "    </tr>\n",
       "    <tr>\n",
       "      <th>8637</th>\n",
       "      <td>MAC Field Scanner Season 10 Range 39 Column 7</td>\n",
       "      <td>15.577724</td>\n",
       "      <td>79.912716</td>\n",
       "      <td>64.334992</td>\n",
       "      <td>0.805066</td>\n",
       "      <td>2020-02-20</td>\n",
       "    </tr>\n",
       "    <tr>\n",
       "      <th>8638</th>\n",
       "      <td>MAC Field Scanner Season 10 Range 37 Column 40</td>\n",
       "      <td>16.357797</td>\n",
       "      <td>85.199033</td>\n",
       "      <td>68.841236</td>\n",
       "      <td>0.808005</td>\n",
       "      <td>2020-02-20</td>\n",
       "    </tr>\n",
       "    <tr>\n",
       "      <th>8639</th>\n",
       "      <td>MAC Field Scanner Season 10 Range 48 Column 34</td>\n",
       "      <td>15.355225</td>\n",
       "      <td>81.264952</td>\n",
       "      <td>65.909726</td>\n",
       "      <td>0.811047</td>\n",
       "      <td>2020-02-20</td>\n",
       "    </tr>\n",
       "  </tbody>\n",
       "</table>\n",
       "<p>8640 rows × 6 columns</p>\n",
       "</div>"
      ],
      "text/plain": [
       "                                                Plot         F0         FM  \\\n",
       "0     MAC Field Scanner Season 10 Range 40 Column 30  13.960748  67.295251   \n",
       "1     MAC Field Scanner Season 10 Range 41 Column 19  13.508523  59.143537   \n",
       "2     MAC Field Scanner Season 10 Range 49 Column 21  12.215608  35.536869   \n",
       "3     MAC Field Scanner Season 10 Range 38 Column 45  11.659572  41.517839   \n",
       "4      MAC Field Scanner Season 10 Range 41 Column 7  13.102145  54.621915   \n",
       "...                                              ...        ...        ...   \n",
       "8635  MAC Field Scanner Season 10 Range 51 Column 40  16.205196  82.241268   \n",
       "8636  MAC Field Scanner Season 10 Range 38 Column 10  15.725742  89.299231   \n",
       "8637   MAC Field Scanner Season 10 Range 39 Column 7  15.577724  79.912716   \n",
       "8638  MAC Field Scanner Season 10 Range 37 Column 40  16.357797  85.199033   \n",
       "8639  MAC Field Scanner Season 10 Range 48 Column 34  15.355225  81.264952   \n",
       "\n",
       "             FV     FV/FM        Date  \n",
       "0     53.334503  0.792545  2020-01-24  \n",
       "1     45.635015  0.771598  2020-01-24  \n",
       "2     23.321261  0.656255  2020-01-24  \n",
       "3     29.858267  0.719167  2020-01-24  \n",
       "4     41.519770  0.760130  2020-01-24  \n",
       "...         ...       ...         ...  \n",
       "8635  66.036072  0.802955  2020-02-20  \n",
       "8636  73.573489  0.823898  2020-02-20  \n",
       "8637  64.334992  0.805066  2020-02-20  \n",
       "8638  68.841236  0.808005  2020-02-20  \n",
       "8639  65.909726  0.811047  2020-02-20  \n",
       "\n",
       "[8640 rows x 6 columns]"
      ]
     },
     "metadata": {},
     "output_type": "display_data"
    }
   ],
   "source": [
    "import pandas as pd\n",
    "\n",
    "all_psii = create_psii_df(paths)\n",
    "\n",
    "all_psii = all_psii.drop(all_psii.columns[0], axis=1)\n",
    "\n",
    "display(all_psii)"
   ]
  },
  {
   "cell_type": "code",
   "execution_count": 10,
   "id": "cccc4fa6",
   "metadata": {},
   "outputs": [
    {
     "ename": "ValueError",
     "evalue": "Table 'psii' already exists.",
     "output_type": "error",
     "traceback": [
      "\u001b[0;31m---------------------------------------------------------------------------\u001b[0m",
      "\u001b[0;31mValueError\u001b[0m                                Traceback (most recent call last)",
      "Input \u001b[0;32mIn [10]\u001b[0m, in \u001b[0;36m<cell line: 7>\u001b[0;34m()\u001b[0m\n\u001b[1;32m      6\u001b[0m \u001b[38;5;28;01mimport\u001b[39;00m \u001b[38;5;21;01msqlite3\u001b[39;00m\n\u001b[1;32m      7\u001b[0m \u001b[38;5;28;01mwith\u001b[39;00m sqlite3\u001b[38;5;241m.\u001b[39mconnect(\u001b[38;5;124m'\u001b[39m\u001b[38;5;124mpo.db\u001b[39m\u001b[38;5;124m'\u001b[39m) \u001b[38;5;28;01mas\u001b[39;00m con:\n\u001b[0;32m----> 8\u001b[0m     \u001b[43mall_psii\u001b[49m\u001b[38;5;241;43m.\u001b[39;49m\u001b[43mto_sql\u001b[49m\u001b[43m(\u001b[49m\u001b[38;5;124;43m'\u001b[39;49m\u001b[38;5;124;43mpsii\u001b[39;49m\u001b[38;5;124;43m'\u001b[39;49m\u001b[43m,\u001b[49m\u001b[43m \u001b[49m\u001b[43mcon\u001b[49m\u001b[38;5;241;43m=\u001b[39;49m\u001b[43mcon\u001b[49m\u001b[43m,\u001b[49m\u001b[43m \u001b[49m\u001b[43mdtype\u001b[49m\u001b[38;5;241;43m=\u001b[39;49m\u001b[43m{\u001b[49m\u001b[43m(\u001b[49m\u001b[38;5;124;43m'\u001b[39;49m\u001b[38;5;124;43mplot\u001b[39;49m\u001b[38;5;124;43m'\u001b[39;49m\u001b[43m,\u001b[49m\u001b[43m \u001b[49m\u001b[38;5;124;43m'\u001b[39;49m\u001b[38;5;124;43mdate\u001b[39;49m\u001b[38;5;124;43m'\u001b[39;49m\u001b[43m)\u001b[49m\u001b[43m:\u001b[49m\u001b[43m \u001b[49m\u001b[38;5;124;43m'\u001b[39;49m\u001b[38;5;124;43mSTRING PRIMARY KEY\u001b[39;49m\u001b[38;5;124;43m'\u001b[39;49m\u001b[43m}\u001b[49m\u001b[43m)\u001b[49m\n",
      "File \u001b[0;32m/Library/Frameworks/Python.framework/Versions/3.9/lib/python3.9/site-packages/pandas/core/generic.py:2963\u001b[0m, in \u001b[0;36mNDFrame.to_sql\u001b[0;34m(self, name, con, schema, if_exists, index, index_label, chunksize, dtype, method)\u001b[0m\n\u001b[1;32m   2806\u001b[0m \u001b[38;5;124;03m\"\"\"\u001b[39;00m\n\u001b[1;32m   2807\u001b[0m \u001b[38;5;124;03mWrite records stored in a DataFrame to a SQL database.\u001b[39;00m\n\u001b[1;32m   2808\u001b[0m \n\u001b[0;32m   (...)\u001b[0m\n\u001b[1;32m   2959\u001b[0m \u001b[38;5;124;03m[(1,), (None,), (2,)]\u001b[39;00m\n\u001b[1;32m   2960\u001b[0m \u001b[38;5;124;03m\"\"\"\u001b[39;00m  \u001b[38;5;66;03m# noqa:E501\u001b[39;00m\n\u001b[1;32m   2961\u001b[0m \u001b[38;5;28;01mfrom\u001b[39;00m \u001b[38;5;21;01mpandas\u001b[39;00m\u001b[38;5;21;01m.\u001b[39;00m\u001b[38;5;21;01mio\u001b[39;00m \u001b[38;5;28;01mimport\u001b[39;00m sql\n\u001b[0;32m-> 2963\u001b[0m \u001b[38;5;28;01mreturn\u001b[39;00m \u001b[43msql\u001b[49m\u001b[38;5;241;43m.\u001b[39;49m\u001b[43mto_sql\u001b[49m\u001b[43m(\u001b[49m\n\u001b[1;32m   2964\u001b[0m \u001b[43m    \u001b[49m\u001b[38;5;28;43mself\u001b[39;49m\u001b[43m,\u001b[49m\n\u001b[1;32m   2965\u001b[0m \u001b[43m    \u001b[49m\u001b[43mname\u001b[49m\u001b[43m,\u001b[49m\n\u001b[1;32m   2966\u001b[0m \u001b[43m    \u001b[49m\u001b[43mcon\u001b[49m\u001b[43m,\u001b[49m\n\u001b[1;32m   2967\u001b[0m \u001b[43m    \u001b[49m\u001b[43mschema\u001b[49m\u001b[38;5;241;43m=\u001b[39;49m\u001b[43mschema\u001b[49m\u001b[43m,\u001b[49m\n\u001b[1;32m   2968\u001b[0m \u001b[43m    \u001b[49m\u001b[43mif_exists\u001b[49m\u001b[38;5;241;43m=\u001b[39;49m\u001b[43mif_exists\u001b[49m\u001b[43m,\u001b[49m\n\u001b[1;32m   2969\u001b[0m \u001b[43m    \u001b[49m\u001b[43mindex\u001b[49m\u001b[38;5;241;43m=\u001b[39;49m\u001b[43mindex\u001b[49m\u001b[43m,\u001b[49m\n\u001b[1;32m   2970\u001b[0m \u001b[43m    \u001b[49m\u001b[43mindex_label\u001b[49m\u001b[38;5;241;43m=\u001b[39;49m\u001b[43mindex_label\u001b[49m\u001b[43m,\u001b[49m\n\u001b[1;32m   2971\u001b[0m \u001b[43m    \u001b[49m\u001b[43mchunksize\u001b[49m\u001b[38;5;241;43m=\u001b[39;49m\u001b[43mchunksize\u001b[49m\u001b[43m,\u001b[49m\n\u001b[1;32m   2972\u001b[0m \u001b[43m    \u001b[49m\u001b[43mdtype\u001b[49m\u001b[38;5;241;43m=\u001b[39;49m\u001b[43mdtype\u001b[49m\u001b[43m,\u001b[49m\n\u001b[1;32m   2973\u001b[0m \u001b[43m    \u001b[49m\u001b[43mmethod\u001b[49m\u001b[38;5;241;43m=\u001b[39;49m\u001b[43mmethod\u001b[49m\u001b[43m,\u001b[49m\n\u001b[1;32m   2974\u001b[0m \u001b[43m\u001b[49m\u001b[43m)\u001b[49m\n",
      "File \u001b[0;32m/Library/Frameworks/Python.framework/Versions/3.9/lib/python3.9/site-packages/pandas/io/sql.py:697\u001b[0m, in \u001b[0;36mto_sql\u001b[0;34m(frame, name, con, schema, if_exists, index, index_label, chunksize, dtype, method, engine, **engine_kwargs)\u001b[0m\n\u001b[1;32m    692\u001b[0m \u001b[38;5;28;01melif\u001b[39;00m \u001b[38;5;129;01mnot\u001b[39;00m \u001b[38;5;28misinstance\u001b[39m(frame, DataFrame):\n\u001b[1;32m    693\u001b[0m     \u001b[38;5;28;01mraise\u001b[39;00m \u001b[38;5;167;01mNotImplementedError\u001b[39;00m(\n\u001b[1;32m    694\u001b[0m         \u001b[38;5;124m\"\u001b[39m\u001b[38;5;124m'\u001b[39m\u001b[38;5;124mframe\u001b[39m\u001b[38;5;124m'\u001b[39m\u001b[38;5;124m argument should be either a Series or a DataFrame\u001b[39m\u001b[38;5;124m\"\u001b[39m\n\u001b[1;32m    695\u001b[0m     )\n\u001b[0;32m--> 697\u001b[0m \u001b[38;5;28;01mreturn\u001b[39;00m \u001b[43mpandas_sql\u001b[49m\u001b[38;5;241;43m.\u001b[39;49m\u001b[43mto_sql\u001b[49m\u001b[43m(\u001b[49m\n\u001b[1;32m    698\u001b[0m \u001b[43m    \u001b[49m\u001b[43mframe\u001b[49m\u001b[43m,\u001b[49m\n\u001b[1;32m    699\u001b[0m \u001b[43m    \u001b[49m\u001b[43mname\u001b[49m\u001b[43m,\u001b[49m\n\u001b[1;32m    700\u001b[0m \u001b[43m    \u001b[49m\u001b[43mif_exists\u001b[49m\u001b[38;5;241;43m=\u001b[39;49m\u001b[43mif_exists\u001b[49m\u001b[43m,\u001b[49m\n\u001b[1;32m    701\u001b[0m \u001b[43m    \u001b[49m\u001b[43mindex\u001b[49m\u001b[38;5;241;43m=\u001b[39;49m\u001b[43mindex\u001b[49m\u001b[43m,\u001b[49m\n\u001b[1;32m    702\u001b[0m \u001b[43m    \u001b[49m\u001b[43mindex_label\u001b[49m\u001b[38;5;241;43m=\u001b[39;49m\u001b[43mindex_label\u001b[49m\u001b[43m,\u001b[49m\n\u001b[1;32m    703\u001b[0m \u001b[43m    \u001b[49m\u001b[43mschema\u001b[49m\u001b[38;5;241;43m=\u001b[39;49m\u001b[43mschema\u001b[49m\u001b[43m,\u001b[49m\n\u001b[1;32m    704\u001b[0m \u001b[43m    \u001b[49m\u001b[43mchunksize\u001b[49m\u001b[38;5;241;43m=\u001b[39;49m\u001b[43mchunksize\u001b[49m\u001b[43m,\u001b[49m\n\u001b[1;32m    705\u001b[0m \u001b[43m    \u001b[49m\u001b[43mdtype\u001b[49m\u001b[38;5;241;43m=\u001b[39;49m\u001b[43mdtype\u001b[49m\u001b[43m,\u001b[49m\n\u001b[1;32m    706\u001b[0m \u001b[43m    \u001b[49m\u001b[43mmethod\u001b[49m\u001b[38;5;241;43m=\u001b[39;49m\u001b[43mmethod\u001b[49m\u001b[43m,\u001b[49m\n\u001b[1;32m    707\u001b[0m \u001b[43m    \u001b[49m\u001b[43mengine\u001b[49m\u001b[38;5;241;43m=\u001b[39;49m\u001b[43mengine\u001b[49m\u001b[43m,\u001b[49m\n\u001b[1;32m    708\u001b[0m \u001b[43m    \u001b[49m\u001b[38;5;241;43m*\u001b[39;49m\u001b[38;5;241;43m*\u001b[39;49m\u001b[43mengine_kwargs\u001b[49m\u001b[43m,\u001b[49m\n\u001b[1;32m    709\u001b[0m \u001b[43m\u001b[49m\u001b[43m)\u001b[49m\n",
      "File \u001b[0;32m/Library/Frameworks/Python.framework/Versions/3.9/lib/python3.9/site-packages/pandas/io/sql.py:2189\u001b[0m, in \u001b[0;36mSQLiteDatabase.to_sql\u001b[0;34m(self, frame, name, if_exists, index, index_label, schema, chunksize, dtype, method, **kwargs)\u001b[0m\n\u001b[1;32m   2178\u001b[0m             \u001b[38;5;28;01mraise\u001b[39;00m \u001b[38;5;167;01mValueError\u001b[39;00m(\u001b[38;5;124mf\u001b[39m\u001b[38;5;124m\"\u001b[39m\u001b[38;5;132;01m{\u001b[39;00mcol\u001b[38;5;132;01m}\u001b[39;00m\u001b[38;5;124m (\u001b[39m\u001b[38;5;132;01m{\u001b[39;00mmy_type\u001b[38;5;132;01m}\u001b[39;00m\u001b[38;5;124m) not a string\u001b[39m\u001b[38;5;124m\"\u001b[39m)\n\u001b[1;32m   2180\u001b[0m table \u001b[38;5;241m=\u001b[39m SQLiteTable(\n\u001b[1;32m   2181\u001b[0m     name,\n\u001b[1;32m   2182\u001b[0m     \u001b[38;5;28mself\u001b[39m,\n\u001b[0;32m   (...)\u001b[0m\n\u001b[1;32m   2187\u001b[0m     dtype\u001b[38;5;241m=\u001b[39mdtype,\n\u001b[1;32m   2188\u001b[0m )\n\u001b[0;32m-> 2189\u001b[0m \u001b[43mtable\u001b[49m\u001b[38;5;241;43m.\u001b[39;49m\u001b[43mcreate\u001b[49m\u001b[43m(\u001b[49m\u001b[43m)\u001b[49m\n\u001b[1;32m   2190\u001b[0m \u001b[38;5;28;01mreturn\u001b[39;00m table\u001b[38;5;241m.\u001b[39minsert(chunksize, method)\n",
      "File \u001b[0;32m/Library/Frameworks/Python.framework/Versions/3.9/lib/python3.9/site-packages/pandas/io/sql.py:833\u001b[0m, in \u001b[0;36mSQLTable.create\u001b[0;34m(self)\u001b[0m\n\u001b[1;32m    831\u001b[0m \u001b[38;5;28;01mif\u001b[39;00m \u001b[38;5;28mself\u001b[39m\u001b[38;5;241m.\u001b[39mexists():\n\u001b[1;32m    832\u001b[0m     \u001b[38;5;28;01mif\u001b[39;00m \u001b[38;5;28mself\u001b[39m\u001b[38;5;241m.\u001b[39mif_exists \u001b[38;5;241m==\u001b[39m \u001b[38;5;124m\"\u001b[39m\u001b[38;5;124mfail\u001b[39m\u001b[38;5;124m\"\u001b[39m:\n\u001b[0;32m--> 833\u001b[0m         \u001b[38;5;28;01mraise\u001b[39;00m \u001b[38;5;167;01mValueError\u001b[39;00m(\u001b[38;5;124mf\u001b[39m\u001b[38;5;124m\"\u001b[39m\u001b[38;5;124mTable \u001b[39m\u001b[38;5;124m'\u001b[39m\u001b[38;5;132;01m{\u001b[39;00m\u001b[38;5;28mself\u001b[39m\u001b[38;5;241m.\u001b[39mname\u001b[38;5;132;01m}\u001b[39;00m\u001b[38;5;124m'\u001b[39m\u001b[38;5;124m already exists.\u001b[39m\u001b[38;5;124m\"\u001b[39m)\n\u001b[1;32m    834\u001b[0m     \u001b[38;5;28;01melif\u001b[39;00m \u001b[38;5;28mself\u001b[39m\u001b[38;5;241m.\u001b[39mif_exists \u001b[38;5;241m==\u001b[39m \u001b[38;5;124m\"\u001b[39m\u001b[38;5;124mreplace\u001b[39m\u001b[38;5;124m\"\u001b[39m:\n\u001b[1;32m    835\u001b[0m         \u001b[38;5;28mself\u001b[39m\u001b[38;5;241m.\u001b[39mpd_sql\u001b[38;5;241m.\u001b[39mdrop_table(\u001b[38;5;28mself\u001b[39m\u001b[38;5;241m.\u001b[39mname, \u001b[38;5;28mself\u001b[39m\u001b[38;5;241m.\u001b[39mschema)\n",
      "\u001b[0;31mValueError\u001b[0m: Table 'psii' already exists."
     ]
    }
   ],
   "source": [
    "'''\n",
    "I here I will push this newly created dataframe into po.db\n",
    "Primary keys are:\n",
    "\n",
    "'''\n",
    "import sqlite3\n",
    "with sqlite3.connect('po.db') as con:\n",
    "    all_psii.to_sql('psii', con=con, dtype={('plot', 'date'): 'STRING PRIMARY KEY'})"
   ]
  },
  {
   "cell_type": "code",
   "execution_count": null,
   "id": "e73d3d0f",
   "metadata": {},
   "outputs": [
    {
     "name": "stdout",
     "output_type": "stream",
     "text": [
      "SQLite version 3.36.0 2021-06-18 18:58:49\n",
      "Enter \".help\" for usage hints.\n",
      "Connected to a \u001b[1mtransient in-memory database\u001b[0m.\n",
      "Use \".open FILENAME\" to reopen on a persistent database.\n",
      "sqlite> "
     ]
    }
   ],
   "source": [
    "="
   ]
  },
  {
   "cell_type": "code",
   "execution_count": null,
   "id": "a851de96",
   "metadata": {},
   "outputs": [],
   "source": []
  }
 ],
 "metadata": {
  "kernelspec": {
   "display_name": "Python 3 (ipykernel)",
   "language": "python",
   "name": "python3"
  },
  "language_info": {
   "codemirror_mode": {
    "name": "ipython",
    "version": 3
   },
   "file_extension": ".py",
   "mimetype": "text/x-python",
   "name": "python",
   "nbconvert_exporter": "python",
   "pygments_lexer": "ipython3",
   "version": "3.9.9"
  }
 },
 "nbformat": 4,
 "nbformat_minor": 5
}
